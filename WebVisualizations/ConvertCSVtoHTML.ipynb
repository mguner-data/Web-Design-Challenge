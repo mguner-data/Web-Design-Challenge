{
 "cells": [
  {
   "cell_type": "code",
   "execution_count": 18,
   "metadata": {
    "scrolled": true
   },
   "outputs": [],
   "source": [
    "# Dependencies and Setup\n",
    "\n",
    "import pandas as pd\n",
    "import csv\n"
   ]
  },
  {
   "cell_type": "code",
   "execution_count": 33,
   "metadata": {},
   "outputs": [],
   "source": [
    "# Data file\n",
    "cities_path = \"Resources/cities.csv\"\n",
    "\n",
    "#Convert to pandas DataFrame\n",
    "\n",
    "cities_data = pd.read_csv(cities_path)\n",
    "cities_data\n",
    "\n",
    "\n",
    "#render dataframe as html\n",
    "html =cities_data.to_html(index=False)\n",
    "\n",
    "#write html to file\n",
    "text_file = open(\"tables.html\", \"w\")\n",
    "text_file.write(html)\n",
    "text_file.close()"
   ]
  },
  {
   "cell_type": "code",
   "execution_count": 10,
   "metadata": {
    "scrolled": false
   },
   "outputs": [
    {
     "name": "stdout",
     "output_type": "stream",
     "text": [
      "<bound method DataFrame.to_html of      City_ID          City  Cloudiness Country        Date  Humidity    Lat  \\\n",
      "0          0  jacareacanga           0      BR  1528902000        62  -6.22   \n",
      "1          1    kaitangata         100      NZ  1528905304        94 -46.28   \n",
      "2          2      goulburn          20      AU  1528905078        91 -34.75   \n",
      "3          3          lata          76      IN  1528905305        89  30.78   \n",
      "4          4    chokurdakh           0      RU  1528905306        88  70.62   \n",
      "..       ...           ...         ...     ...         ...       ...    ...   \n",
      "542      542        scalea          36      IT  1528905631       100  39.82   \n",
      "543      543    san andres          68      PH  1528905632       100  13.32   \n",
      "544      544        muisne          92      EC  1528905633        84   0.61   \n",
      "545      545           ati          20      TD  1528905633        25  13.21   \n",
      "546      546      san luis           0      AR  1528905472        53 -33.30   \n",
      "\n",
      "        Lng  Max Temp  Wind Speed  \n",
      "0    -57.76     89.60        6.93  \n",
      "1    169.85     42.61        5.64  \n",
      "2    149.72     44.32       10.11  \n",
      "3     78.62     59.89        0.94  \n",
      "4    147.90     32.17        2.95  \n",
      "..      ...       ...         ...  \n",
      "542   15.79     70.06        5.30  \n",
      "543  122.68     83.47       22.64  \n",
      "544  -80.02     76.90        4.63  \n",
      "545   18.34    104.53        4.97  \n",
      "546  -66.34     42.43        2.62  \n",
      "\n",
      "[547 rows x 10 columns]>\n"
     ]
    }
   ],
   "source": [
    "html=cities_data.to_html\n",
    "print(html)"
   ]
  },
  {
   "cell_type": "code",
   "execution_count": null,
   "metadata": {},
   "outputs": [],
   "source": []
  },
  {
   "cell_type": "code",
   "execution_count": null,
   "metadata": {},
   "outputs": [],
   "source": []
  }
 ],
 "metadata": {
  "anaconda-cloud": {},
  "kernel_info": {
   "name": "python3"
  },
  "kernelspec": {
   "display_name": "Python [conda env:.conda-PythonData] *",
   "language": "python",
   "name": "conda-env-.conda-PythonData-py"
  },
  "language_info": {
   "codemirror_mode": {
    "name": "ipython",
    "version": 3
   },
   "file_extension": ".py",
   "mimetype": "text/x-python",
   "name": "python",
   "nbconvert_exporter": "python",
   "pygments_lexer": "ipython3",
   "version": "3.8.2"
  },
  "latex_envs": {
   "LaTeX_envs_menu_present": true,
   "autoclose": false,
   "autocomplete": true,
   "bibliofile": "biblio.bib",
   "cite_by": "apalike",
   "current_citInitial": 1,
   "eqLabelWithNumbers": true,
   "eqNumInitial": 1,
   "hotkeys": {
    "equation": "Ctrl-E",
    "itemize": "Ctrl-I"
   },
   "labels_anchors": false,
   "latex_user_defs": false,
   "report_style_numbering": false,
   "user_envs_cfg": false
  },
  "nteract": {
   "version": "0.12.3"
  }
 },
 "nbformat": 4,
 "nbformat_minor": 2
}
